{
 "cells": [
  {
   "cell_type": "code",
   "execution_count": null,
   "id": "85b28282",
   "metadata": {},
   "outputs": [],
   "source": [
    "import numpy as np\n",
    "import pandas as pd\n",
    "import matplotlib.pyplot as plt\n",
    "from sklearn.datasets import make_blobs\n",
    "%matplotlib inline"
   ]
  },
  {
   "cell_type": "code",
   "execution_count": null,
   "id": "e9d1c5b3",
   "metadata": {},
   "outputs": [],
   "source": [
    "X,y = make_blobs(n_samples = 1000,n_features = 2,centers = 3,random_state = 23)\n",
    "\n"
   ]
  },
  {
   "cell_type": "code",
   "execution_count": null,
   "id": "880d74ee",
   "metadata": {},
   "outputs": [],
   "source": [
    "fig = plt.figure(0)\n",
    "plt.grid(True)\n",
    "plt.scatter(X[:,0],X[:,1])\n",
    "plt.show()"
   ]
  },
  {
   "cell_type": "code",
   "execution_count": null,
   "id": "6ed6ab9d",
   "metadata": {},
   "outputs": [],
   "source": [
    "# train test split\n",
    "from sklearn.model_selection import train_test_split\n",
    "\n",
    "X_train, X_test, y_train, y_test = train_test_split(\n",
    "    X, y, test_size=0.33, random_state=42)"
   ]
  },
  {
   "cell_type": "code",
   "execution_count": null,
   "id": "8b9e4f09",
   "metadata": {},
   "outputs": [],
   "source": [
    "from sklearn.cluster import KMeans"
   ]
  },
  {
   "cell_type": "code",
   "execution_count": null,
   "id": "782be041",
   "metadata": {},
   "outputs": [],
   "source": [
    "# manual process\n",
    "# elbow method  to select the k value\n",
    "\n",
    "wcss=[]\n",
    "for k in range(1,11):\n",
    "    kmeans=KMeans(n_clusters=k,init='k-means++')\n",
    "    kmeans.fit(X_train)\n",
    "    wcss.append(kmeans.inertia_)"
   ]
  },
  {
   "cell_type": "code",
   "execution_count": null,
   "id": "f4e9483e",
   "metadata": {},
   "outputs": [],
   "source": [
    "wcss"
   ]
  },
  {
   "cell_type": "code",
   "execution_count": null,
   "id": "f0e8306c",
   "metadata": {},
   "outputs": [],
   "source": [
    "plt.plot(range(1,11),wcss)\n",
    "plt.xticks(range(1,11))\n",
    "plt.xlabel('number of clusterers')\n",
    "plt.ylabel('wcss')\n",
    "plt.show()"
   ]
  },
  {
   "cell_type": "code",
   "execution_count": null,
   "id": "22abc9db",
   "metadata": {},
   "outputs": [],
   "source": [
    "kmeans=KMeans(n_clusters=3,init='k-means++')"
   ]
  },
  {
   "cell_type": "code",
   "execution_count": null,
   "id": "d8b360a7",
   "metadata": {},
   "outputs": [],
   "source": [
    "kmeans.fit_predict(X_train)"
   ]
  },
  {
   "cell_type": "code",
   "execution_count": null,
   "id": "b6b3a28b",
   "metadata": {},
   "outputs": [],
   "source": [
    "y_labels=kmeans.fit_predict(X_train)"
   ]
  },
  {
   "cell_type": "code",
   "execution_count": null,
   "id": "5f20c8e5",
   "metadata": {},
   "outputs": [],
   "source": [
    "plt.scatter(X_train[:,0],X_train[:,1],c=y_labels)"
   ]
  },
  {
   "cell_type": "code",
   "execution_count": null,
   "id": "3ae374f0",
   "metadata": {},
   "outputs": [],
   "source": []
  },
  {
   "cell_type": "code",
   "execution_count": null,
   "id": "a43fe28a",
   "metadata": {},
   "outputs": [],
   "source": [
    "# knee locator\n",
    "from kneed import KneeLocator"
   ]
  },
  {
   "cell_type": "code",
   "execution_count": null,
   "id": "647053e0",
   "metadata": {},
   "outputs": [],
   "source": [
    "kl= KneeLocator(range(1,11),wcss,curve='convex',direction='decreasing')\n",
    "kl.elbow"
   ]
  },
  {
   "cell_type": "code",
   "execution_count": null,
   "id": "d9d84de0",
   "metadata": {},
   "outputs": [],
   "source": [
    "# performance metrics\n",
    "# silhouette score\n",
    "\n",
    "from sklearn.metrics import silhouette_score"
   ]
  },
  {
   "cell_type": "code",
   "execution_count": null,
   "id": "dfee0b10",
   "metadata": {},
   "outputs": [],
   "source": [
    "silhouette_coefficients=[]\n",
    "for k in range(2,11):\n",
    "    kmeans=KMeans(n_clusters=k,init='k-means++')\n",
    "    kmeans.fit(X_train)\n",
    "    score=silhouette_score(X_train,kmeans.labels_)\n",
    "    silhouette_coefficients.append(score)"
   ]
  },
  {
   "cell_type": "code",
   "execution_count": null,
   "id": "388dd9af",
   "metadata": {},
   "outputs": [],
   "source": [
    "silhouette_coefficients"
   ]
  },
  {
   "cell_type": "code",
   "execution_count": null,
   "id": "426287e1",
   "metadata": {},
   "outputs": [],
   "source": [
    "plt.plot(range(2,11),silhouette_coefficients)\n",
    "plt.xticks(range(2,11))\n",
    "plt.xlabel('number of clusterers')\n",
    "plt.ylabel('silhouette_coefficients')\n",
    "plt.show()"
   ]
  },
  {
   "cell_type": "code",
   "execution_count": null,
   "id": "85ade34a",
   "metadata": {},
   "outputs": [],
   "source": []
  },
  {
   "cell_type": "code",
   "execution_count": null,
   "id": "ede422ec",
   "metadata": {},
   "outputs": [],
   "source": []
  },
  {
   "cell_type": "markdown",
   "id": "eb3faa69",
   "metadata": {},
   "source": [
    "Hierarichal Clustering"
   ]
  },
  {
   "cell_type": "code",
   "execution_count": null,
   "id": "eab8ef5c",
   "metadata": {},
   "outputs": [],
   "source": [
    "import pandas as pd\n",
    "import numpy as np\n",
    "import matplotlib.pyplot as plt\n",
    "from sklearn import datasets"
   ]
  },
  {
   "cell_type": "code",
   "execution_count": null,
   "id": "f19d9bdc",
   "metadata": {},
   "outputs": [],
   "source": [
    "iris=datasets.load_iris()"
   ]
  },
  {
   "cell_type": "code",
   "execution_count": null,
   "id": "6ecaf295",
   "metadata": {},
   "outputs": [],
   "source": [
    "iris_data=pd.DataFrame(iris.data)"
   ]
  },
  {
   "cell_type": "code",
   "execution_count": null,
   "id": "bf688bd1",
   "metadata": {},
   "outputs": [],
   "source": [
    "iris_data.columns=iris.feature_names"
   ]
  },
  {
   "cell_type": "code",
   "execution_count": null,
   "id": "915981f4",
   "metadata": {},
   "outputs": [],
   "source": [
    "iris_data"
   ]
  },
  {
   "cell_type": "code",
   "execution_count": null,
   "id": "d5e8fa0a",
   "metadata": {},
   "outputs": [],
   "source": [
    "from sklearn.preprocessing import StandardScaler\n",
    "scaler = StandardScaler()"
   ]
  },
  {
   "cell_type": "code",
   "execution_count": null,
   "id": "7ed3cfc9",
   "metadata": {},
   "outputs": [],
   "source": [
    "X_scaled = scaler.fit_transform(iris_data)"
   ]
  },
  {
   "cell_type": "code",
   "execution_count": null,
   "id": "efc85f95",
   "metadata": {},
   "outputs": [],
   "source": [
    "X_scaled"
   ]
  },
  {
   "cell_type": "code",
   "execution_count": null,
   "id": "ed11a5eb",
   "metadata": {},
   "outputs": [],
   "source": [
    "X_scaled.shape"
   ]
  },
  {
   "cell_type": "markdown",
   "id": "4a3a4431",
   "metadata": {},
   "source": [
    "Dimensionality Reduction "
   ]
  },
  {
   "cell_type": "code",
   "execution_count": null,
   "id": "22fb2592",
   "metadata": {},
   "outputs": [],
   "source": [
    "from sklearn.decomposition import PCA"
   ]
  },
  {
   "cell_type": "code",
   "execution_count": null,
   "id": "424753c3",
   "metadata": {},
   "outputs": [],
   "source": [
    "pca=PCA(n_components=2)"
   ]
  },
  {
   "cell_type": "code",
   "execution_count": null,
   "id": "65a76ad6",
   "metadata": {},
   "outputs": [],
   "source": [
    "pca"
   ]
  },
  {
   "cell_type": "code",
   "execution_count": null,
   "id": "2927c157",
   "metadata": {},
   "outputs": [],
   "source": [
    "pca_scaled = pca.fit_transform(X_scaled)"
   ]
  },
  {
   "cell_type": "code",
   "execution_count": null,
   "id": "ea8edbcd",
   "metadata": {},
   "outputs": [],
   "source": [
    "pca_scaled"
   ]
  },
  {
   "cell_type": "code",
   "execution_count": null,
   "id": "0aa4e8e6",
   "metadata": {},
   "outputs": [],
   "source": [
    "plt.scatter(pca_scaled[:,0],pca_scaled[:,1])"
   ]
  },
  {
   "cell_type": "code",
   "execution_count": null,
   "id": "72aa2199",
   "metadata": {},
   "outputs": [],
   "source": [
    "# Agglomerative Clustering\n",
    "# to construct a dendogram\n",
    "\n",
    "import scipy.cluster.hierarchy as sc\n",
    "\n",
    "# plot dendogram\n",
    "plt.figure(figsize=(20,7))\n",
    "plt.title('Dendograms')\n",
    "\n",
    "# create dendogram\n",
    "sc.dendrogram(sc.linkage(pca_scaled,method='ward'))\n",
    "plt.title('Dendogram')\n",
    "plt.xlabel('Sample Index')\n",
    "plt.ylabel('Eucledian Distance')"
   ]
  },
  {
   "cell_type": "code",
   "execution_count": null,
   "id": "29aedf95",
   "metadata": {},
   "outputs": [],
   "source": [
    "from sklearn.cluster import AgglomerativeClustering\n",
    "\n",
    "cluster=AgglomerativeClustering(n_clusters=2,affinity='euclidean',linkage='ward')\n",
    "cluster.fit(pca_scaled)"
   ]
  },
  {
   "cell_type": "code",
   "execution_count": null,
   "id": "c4171d5b",
   "metadata": {},
   "outputs": [],
   "source": [
    "cluster.labels_"
   ]
  },
  {
   "cell_type": "code",
   "execution_count": null,
   "id": "10124cff",
   "metadata": {},
   "outputs": [],
   "source": [
    "plt.scatter(pca_scaled[:,0],pca_scaled[:,1],c=cluster.labels_)"
   ]
  },
  {
   "cell_type": "code",
   "execution_count": null,
   "id": "80df1d1b",
   "metadata": {},
   "outputs": [],
   "source": [
    "from sklearn.metrics import silhouette_score"
   ]
  },
  {
   "cell_type": "code",
   "execution_count": null,
   "id": "06386b73",
   "metadata": {},
   "outputs": [],
   "source": [
    "silhouette_coefficients=[]\n",
    "\n",
    "for k in range(2,11):\n",
    "    agglo=AgglomerativeClustering(n_clusters=k,affinity='euclidean',linkage='ward')\n",
    "    agglo.fit(X_scaled)\n",
    "    score=silhouette_score(X_scaled,agglo.labels_)\n",
    "    silhouette_coefficients.append(score)\n",
    "    "
   ]
  },
  {
   "cell_type": "code",
   "execution_count": null,
   "id": "32409422",
   "metadata": {},
   "outputs": [],
   "source": [
    "plt.plot(range(2,11),silhouette_coefficients)\n",
    "plt.xticks(range(2,11))\n",
    "plt.xlabel('number of clusterers')\n",
    "plt.ylabel('silhouette_coefficients')\n",
    "plt.show()"
   ]
  },
  {
   "cell_type": "code",
   "execution_count": null,
   "id": "640600df",
   "metadata": {},
   "outputs": [],
   "source": []
  },
  {
   "cell_type": "code",
   "execution_count": null,
   "id": "7a821870",
   "metadata": {},
   "outputs": [],
   "source": []
  },
  {
   "cell_type": "markdown",
   "id": "c1292840",
   "metadata": {},
   "source": [
    "DBSCAN Clustering"
   ]
  },
  {
   "cell_type": "code",
   "execution_count": null,
   "id": "5cdf7a1c",
   "metadata": {},
   "outputs": [],
   "source": [
    "from sklearn.cluster import DBSCAN\n",
    "from sklearn.datasets import make_moons\n",
    "import matplotlib.pyplot as plt\n",
    "%matplotlib inline"
   ]
  },
  {
   "cell_type": "code",
   "execution_count": null,
   "id": "82369401",
   "metadata": {},
   "outputs": [],
   "source": [
    "X,y=make_moons(n_samples=250,noise=0.05)"
   ]
  },
  {
   "cell_type": "code",
   "execution_count": null,
   "id": "3c5773dd",
   "metadata": {},
   "outputs": [],
   "source": [
    "X"
   ]
  },
  {
   "cell_type": "code",
   "execution_count": null,
   "id": "215a0273",
   "metadata": {},
   "outputs": [],
   "source": [
    "plt.scatter(X[:,0],X[:,1])"
   ]
  },
  {
   "cell_type": "code",
   "execution_count": null,
   "id": "7f9cbc5d",
   "metadata": {},
   "outputs": [],
   "source": [
    "# feature scaling (standard scaling)\n",
    "\n",
    "from sklearn.preprocessing import StandardScaler\n",
    "scaler=StandardScaler()"
   ]
  },
  {
   "cell_type": "code",
   "execution_count": null,
   "id": "b666f923",
   "metadata": {},
   "outputs": [],
   "source": [
    "X_scaled=scaler.fit_transform(X)"
   ]
  },
  {
   "cell_type": "code",
   "execution_count": null,
   "id": "628e64cc",
   "metadata": {},
   "outputs": [],
   "source": [
    "# DBSCAN Algorithm\n",
    "from sklearn.cluster import DBSCAN\n",
    "dbscan=DBSCAN(eps=0.5)"
   ]
  },
  {
   "cell_type": "code",
   "execution_count": null,
   "id": "e5204943",
   "metadata": {},
   "outputs": [],
   "source": [
    "dbscan.fit(X_scaled)"
   ]
  },
  {
   "cell_type": "code",
   "execution_count": null,
   "id": "c0d98551",
   "metadata": {},
   "outputs": [],
   "source": [
    "dbscan.labels_"
   ]
  },
  {
   "cell_type": "code",
   "execution_count": null,
   "id": "a1075fe2",
   "metadata": {},
   "outputs": [],
   "source": [
    "plt.scatter(X[:,0],X[:,1],c=dbscan.labels_)"
   ]
  },
  {
   "cell_type": "code",
   "execution_count": null,
   "id": "daaee296",
   "metadata": {},
   "outputs": [],
   "source": [
    "plt.scatter(X[:,0],X[:,1],c=y)"
   ]
  },
  {
   "cell_type": "code",
   "execution_count": null,
   "id": "91147d31",
   "metadata": {},
   "outputs": [],
   "source": []
  },
  {
   "cell_type": "code",
   "execution_count": null,
   "id": "a358600a",
   "metadata": {},
   "outputs": [],
   "source": []
  },
  {
   "cell_type": "code",
   "execution_count": null,
   "id": "b93d1feb",
   "metadata": {},
   "outputs": [],
   "source": []
  },
  {
   "cell_type": "code",
   "execution_count": null,
   "id": "a2f1885c",
   "metadata": {},
   "outputs": [],
   "source": []
  },
  {
   "cell_type": "markdown",
   "id": "8670889c",
   "metadata": {},
   "source": [
    "PCA"
   ]
  },
  {
   "cell_type": "code",
   "execution_count": null,
   "id": "fb49caed",
   "metadata": {},
   "outputs": [],
   "source": [
    "import numpy as np\n",
    "import pandas as pd\n",
    "\n",
    "np.random.seed(23) \n",
    "\n",
    "mu_vec1 = np.array([0,0,0])\n",
    "cov_mat1 = np.array([[1,0,0],[0,1,0],[0,0,1]])\n",
    "class1_sample = np.random.multivariate_normal(mu_vec1, cov_mat1, 20)\n",
    "\n",
    "df = pd.DataFrame(class1_sample,columns=['feature1','feature2','feature3'])\n",
    "df['target'] = 1\n",
    "\n",
    "mu_vec2 = np.array([1,1,1])\n",
    "cov_mat2 = np.array([[1,0,0],[0,1,0],[0,0,1]])\n",
    "class2_sample = np.random.multivariate_normal(mu_vec2, cov_mat2, 20)\n",
    "\n",
    "df1 = pd.DataFrame(class2_sample,columns=['feature1','feature2','feature3'])\n",
    "\n",
    "df1['target'] = 0\n",
    "\n",
    "df = df.append(df1,ignore_index=True)\n",
    "\n",
    "df = df.sample(40)"
   ]
  },
  {
   "cell_type": "code",
   "execution_count": null,
   "id": "84e261c1",
   "metadata": {},
   "outputs": [],
   "source": [
    "df.head()"
   ]
  },
  {
   "cell_type": "code",
   "execution_count": null,
   "id": "51496e48",
   "metadata": {},
   "outputs": [],
   "source": [
    "# create 3d plot\n",
    "\n",
    "import plotly.express as px\n",
    "#y_train_trf = y_train.astype(str)\n",
    "fig = px.scatter_3d(df, x=df['feature1'], y=df['feature2'], z=df['feature3'],\n",
    "              color=df['target'].astype('str'))\n",
    "fig.update_traces(marker=dict(size=12,\n",
    "                              line=dict(width=2,\n",
    "                                        color='DarkSlateGrey')),\n",
    "                  selector=dict(mode='markers'))\n",
    "\n",
    "fig.show()"
   ]
  },
  {
   "cell_type": "code",
   "execution_count": null,
   "id": "3f974de9",
   "metadata": {},
   "outputs": [],
   "source": [
    "\n",
    "# Step 1 - Apply standard scaling\n",
    "\n",
    "from sklearn.preprocessing import StandardScaler\n",
    "scaler = StandardScaler()\n",
    "\n",
    "df.iloc[:,0:3] = scaler.fit_transform(df.iloc[:,0:3])\n",
    "     "
   ]
  },
  {
   "cell_type": "code",
   "execution_count": null,
   "id": "e5cf1fc2",
   "metadata": {},
   "outputs": [],
   "source": [
    "\n",
    "# Step 2 - Find Covariance Matrix\n",
    "covariance_matrix = np.cov([df.iloc[:,0],df.iloc[:,1],df.iloc[:,2]])\n",
    "print('Covariance Matrix:\\n', covariance_matrix)"
   ]
  },
  {
   "cell_type": "code",
   "execution_count": null,
   "id": "59542be0",
   "metadata": {},
   "outputs": [],
   "source": [
    "# Step 3 - Finding eigen_values , eigen_vectors \n",
    "\n",
    "eigen_values, eigen_vectors = np.linalg.eig(covariance_matrix)\n"
   ]
  },
  {
   "cell_type": "code",
   "execution_count": null,
   "id": "f221e550",
   "metadata": {},
   "outputs": [],
   "source": [
    "eigen_values"
   ]
  },
  {
   "cell_type": "code",
   "execution_count": null,
   "id": "92091be6",
   "metadata": {},
   "outputs": [],
   "source": [
    "eigen_vectors"
   ]
  },
  {
   "cell_type": "code",
   "execution_count": null,
   "id": "ba1ade4c",
   "metadata": {},
   "outputs": [],
   "source": [
    "pc = eigen_vectors[0:2]\n",
    "pc"
   ]
  },
  {
   "cell_type": "code",
   "execution_count": null,
   "id": "d8cf6538",
   "metadata": {},
   "outputs": [],
   "source": [
    "\n",
    "\n",
    "transformed_df = np.dot(df.iloc[:,0:3],pc.T)\n",
    "# original data 40,3\n",
    "# pc 3,2\n",
    "# after dot product 40,2\n",
    "new_df = pd.DataFrame(transformed_df,columns=['PC1','PC2'])\n",
    "new_df['target'] = df['target'].values\n",
    "new_df.head()"
   ]
  },
  {
   "cell_type": "code",
   "execution_count": null,
   "id": "80eebb29",
   "metadata": {},
   "outputs": [],
   "source": [
    "\n",
    "new_df['target'] = new_df['target'].astype('str')\n",
    "fig = px.scatter(x=new_df['PC1'],\n",
    "                 y=new_df['PC2'],\n",
    "                 color=new_df['target'],\n",
    "                 color_discrete_sequence=px.colors.qualitative.G10\n",
    "                )\n",
    "\n",
    "fig.update_traces(marker=dict(size=12,\n",
    "                              line=dict(width=2,\n",
    "                                        color='DarkSlateGrey')),\n",
    "                  selector=dict(mode='markers'))\n",
    "fig.show()\n",
    "     "
   ]
  },
  {
   "cell_type": "code",
   "execution_count": null,
   "id": "5f7f0526",
   "metadata": {},
   "outputs": [],
   "source": []
  },
  {
   "cell_type": "code",
   "execution_count": null,
   "id": "c940c9ba",
   "metadata": {},
   "outputs": [],
   "source": []
  },
  {
   "cell_type": "code",
   "execution_count": null,
   "id": "bc1688c0",
   "metadata": {},
   "outputs": [],
   "source": []
  },
  {
   "cell_type": "code",
   "execution_count": null,
   "id": "d02ec5d8",
   "metadata": {},
   "outputs": [],
   "source": []
  },
  {
   "cell_type": "code",
   "execution_count": null,
   "id": "72f88221",
   "metadata": {},
   "outputs": [],
   "source": []
  },
  {
   "cell_type": "code",
   "execution_count": null,
   "id": "10a88133",
   "metadata": {},
   "outputs": [],
   "source": []
  },
  {
   "cell_type": "code",
   "execution_count": null,
   "id": "57b13343",
   "metadata": {},
   "outputs": [],
   "source": []
  },
  {
   "cell_type": "code",
   "execution_count": null,
   "id": "e3e4c817",
   "metadata": {},
   "outputs": [],
   "source": []
  },
  {
   "cell_type": "code",
   "execution_count": null,
   "id": "f37f759e",
   "metadata": {},
   "outputs": [],
   "source": []
  },
  {
   "cell_type": "code",
   "execution_count": null,
   "id": "5ecc0888",
   "metadata": {},
   "outputs": [],
   "source": []
  },
  {
   "cell_type": "code",
   "execution_count": null,
   "id": "8299d02e",
   "metadata": {},
   "outputs": [],
   "source": []
  },
  {
   "cell_type": "code",
   "execution_count": null,
   "id": "a7142ef6",
   "metadata": {},
   "outputs": [],
   "source": []
  }
 ],
 "metadata": {
  "kernelspec": {
   "display_name": "Python 3",
   "language": "python",
   "name": "python3"
  },
  "language_info": {
   "codemirror_mode": {
    "name": "ipython",
    "version": 3
   },
   "file_extension": ".py",
   "mimetype": "text/x-python",
   "name": "python",
   "nbconvert_exporter": "python",
   "pygments_lexer": "ipython3",
   "version": "3.8.10"
  }
 },
 "nbformat": 4,
 "nbformat_minor": 5
}
