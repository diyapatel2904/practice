{
 "cells": [
  {
   "cell_type": "code",
   "execution_count": null,
   "id": "73446a84",
   "metadata": {},
   "outputs": [],
   "source": [
    "# outliers : after 3rd standard deviation the data are outliers"
   ]
  },
  {
   "cell_type": "code",
   "execution_count": 37,
   "id": "294a6aa5",
   "metadata": {},
   "outputs": [],
   "source": [
    "import seaborn as sns \n",
    "import numpy as np\n",
    "import matplotlib.pyplot as plt\n",
    "%matplotlib inline\n",
    "import statistics"
   ]
  },
  {
   "cell_type": "code",
   "execution_count": 22,
   "id": "4d3b18e0",
   "metadata": {},
   "outputs": [],
   "source": [
    "dataset=[11,12,107,11,12,14,13,17,13,11,16,15,14,12,11,12,12,11,17,16,15,108,15,16,17,102]"
   ]
  },
  {
   "cell_type": "code",
   "execution_count": null,
   "id": "958f9b93",
   "metadata": {},
   "outputs": [],
   "source": [
    "plt.hist(dataset)"
   ]
  },
  {
   "cell_type": "code",
   "execution_count": null,
   "id": "80513df7",
   "metadata": {},
   "outputs": [],
   "source": [
    "## z score\n",
    "\n",
    "outliers=[]\n",
    "\n",
    "def detect_outliers(data):\n",
    "    threshold=2  #2rd SD\n",
    "    mean=np.mean(data)\n",
    "    std=np.std(data)\n",
    "\n",
    "    for i in data:\n",
    "        z_score=(i-mean)/std   #z_score formula\n",
    "        if np.abs(z_score) > threshold:\n",
    "            outliers.append(i)\n",
    "            \n",
    "    return outliers"
   ]
  },
  {
   "cell_type": "code",
   "execution_count": 27,
   "id": "cb4094f7",
   "metadata": {},
   "outputs": [
    {
     "data": {
      "text/plain": [
       "[107, 108, 102]"
      ]
     },
     "execution_count": 27,
     "metadata": {},
     "output_type": "execute_result"
    }
   ],
   "source": [
    "detect_outliers(dataset)"
   ]
  },
  {
   "cell_type": "code",
   "execution_count": null,
   "id": "e8a3ce86",
   "metadata": {},
   "outputs": [],
   "source": [
    "## IQR\n",
    "\n",
    "\n",
    "# sort the data\n",
    "# cal. Q1 & Q3\n",
    "# IQR(Q3-Q1)\n",
    "# find the lower fence nd upper fence\n",
    "\n",
    "\n",
    "dataset=sorted(dataset)\n",
    "dataset"
   ]
  },
  {
   "cell_type": "code",
   "execution_count": 32,
   "id": "69040197",
   "metadata": {},
   "outputs": [
    {
     "name": "stdout",
     "output_type": "stream",
     "text": [
      "12.0 16.0\n"
     ]
    }
   ],
   "source": [
    "q1,q3=np.percentile( dataset, [25,75])\n",
    "print(q1,q3)\n"
   ]
  },
  {
   "cell_type": "code",
   "execution_count": 35,
   "id": "e88b3868",
   "metadata": {},
   "outputs": [
    {
     "name": "stdout",
     "output_type": "stream",
     "text": [
      "4.0\n"
     ]
    }
   ],
   "source": [
    "\n",
    "iqr = q3-q1\n",
    "print(iqr)"
   ]
  },
  {
   "cell_type": "code",
   "execution_count": 36,
   "id": "2c996e9e",
   "metadata": {},
   "outputs": [
    {
     "name": "stdout",
     "output_type": "stream",
     "text": [
      "6.0\n",
      "22.0\n"
     ]
    }
   ],
   "source": [
    "lower_fence = q1-(1.5*iqr)\n",
    "higher_fence = q3+(1.5*iqr)\n",
    "\n",
    "print(lower_fence)\n",
    "print(higher_fence)"
   ]
  },
  {
   "cell_type": "code",
   "execution_count": 38,
   "id": "be58c8f8",
   "metadata": {},
   "outputs": [
    {
     "data": {
      "text/plain": [
       "<Axes: >"
      ]
     },
     "execution_count": 38,
     "metadata": {},
     "output_type": "execute_result"
    },
    {
     "data": {
      "image/png": "[encoded data removed]",
      "text/plain": [
       "<Figure size 640x480 with 1 Axes>"
      ]
     },
     "metadata": {},
     "output_type": "display_data"
    }
   ],
   "source": [
    "sns.boxplot(dataset)"
   ]
  },
  {
   "cell_type": "code",
   "execution_count": null,
   "id": "3193d1bc",
   "metadata": {},
   "outputs": [
    {
     "data": {
      "text/plain": [
       "(1.5976240527147705, 0.1101266701438426)"
      ]
     },
     "execution_count": 4,
     "metadata": {},
     "output_type": "execute_result"
    }
   ],
   "source": [
    "#ztest\n",
    "\n",
    "from statsmodels.stats.weightstats import ztest as ztest\n",
    "\n",
    "data=[88,92,94,94,96,97,97,97,99,99,\n",
    "      105,109,109,109,110,112,112,113,114,115]\n",
    "\n",
    "ztest(data,value=100)"
   ]
  },
  {
   "cell_type": "code",
   "execution_count": 6,
   "id": "ecc65826",
   "metadata": {},
   "outputs": [],
   "source": [
    "#t test\n",
    "\n",
    "ages=[10,20,35,50,28,40,55,18,16,55,30,25,43,18,30,28,14,16,24,17,27,26,35,23,43,65,18,20,19,70]"
   ]
  },
  {
   "cell_type": "code",
   "execution_count": 7,
   "id": "9373e011",
   "metadata": {},
   "outputs": [
    {
     "data": {
      "text/plain": [
       "30.6"
      ]
     },
     "execution_count": 7,
     "metadata": {},
     "output_type": "execute_result"
    }
   ],
   "source": [
    "import numpy as np\n",
    "ages_mean=np.mean(ages)\n",
    "ages_mean"
   ]
  },
  {
   "cell_type": "code",
   "execution_count": 17,
   "id": "fe7b8c30",
   "metadata": {},
   "outputs": [
    {
     "data": {
      "text/plain": [
       "array([43, 20, 50, 23, 10, 70, 10, 24, 30, 65])"
      ]
     },
     "execution_count": 17,
     "metadata": {},
     "output_type": "execute_result"
    }
   ],
   "source": [
    "sample_size=10\n",
    "age_sample=np.random.choice(ages,sample_size)\n",
    "age_sample"
   ]
  },
  {
   "cell_type": "code",
   "execution_count": 18,
   "id": "feac20ad",
   "metadata": {},
   "outputs": [
    {
     "data": {
      "text/plain": [
       "34.5"
      ]
     },
     "execution_count": 18,
     "metadata": {},
     "output_type": "execute_result"
    }
   ],
   "source": [
    "np.mean(age_sample)"
   ]
  },
  {
   "cell_type": "code",
   "execution_count": 20,
   "id": "eb52d760",
   "metadata": {},
   "outputs": [
    {
     "data": {
      "text/plain": [
       "TtestResult(statistic=0.6605832017295618, pvalue=0.52542495378343, df=9)"
      ]
     },
     "execution_count": 20,
     "metadata": {},
     "output_type": "execute_result"
    }
   ],
   "source": [
    "from scipy.stats import ttest_1samp\n",
    "ttest_1samp(age_sample,30)"
   ]
  },
  {
   "cell_type": "code",
   "execution_count": 21,
   "id": "0b0e43b7",
   "metadata": {},
   "outputs": [],
   "source": [
    "#example\n",
    "\n",
    "import numpy as np \n",
    "import pandas as pd\n",
    "import scipy.stats as stats\n",
    "import math\n",
    "\n",
    "np.random.seed(60)\n",
    "school_ages=stats.poisson.rvs(loc=18,mu=35,size=1500)\n",
    "class_ages=stats.poisson.rvs(loc=18,mu=30,size=60)"
   ]
  },
  {
   "cell_type": "code",
   "execution_count": 22,
   "id": "7fe67737",
   "metadata": {},
   "outputs": [
    {
     "data": {
      "text/plain": [
       "array([49, 50, 54, ..., 57, 50, 60])"
      ]
     },
     "execution_count": 22,
     "metadata": {},
     "output_type": "execute_result"
    }
   ],
   "source": [
    "school_ages"
   ]
  },
  {
   "cell_type": "code",
   "execution_count": 23,
   "id": "93110e53",
   "metadata": {},
   "outputs": [
    {
     "data": {
      "text/plain": [
       "array([45, 51, 49, 52, 46, 52, 60, 46, 44, 46, 54, 54, 51, 37, 49, 38, 45,\n",
       "       56, 48, 49, 51, 50, 50, 53, 47, 44, 47, 46, 46, 55, 54, 48, 57, 49,\n",
       "       55, 53, 44, 53, 44, 53, 47, 48, 42, 55, 40, 53, 56, 45, 50, 42, 50,\n",
       "       50, 38, 60, 48, 52, 48, 49, 50, 47])"
      ]
     },
     "execution_count": 23,
     "metadata": {},
     "output_type": "execute_result"
    }
   ],
   "source": [
    "class_ages"
   ]
  },
  {
   "cell_type": "code",
   "execution_count": 24,
   "id": "2049a749",
   "metadata": {},
   "outputs": [
    {
     "data": {
      "text/plain": [
       "49.016666666666666"
      ]
     },
     "execution_count": 24,
     "metadata": {},
     "output_type": "execute_result"
    }
   ],
   "source": [
    "class_ages.mean()"
   ]
  },
  {
   "cell_type": "code",
   "execution_count": 27,
   "id": "d0f9eef8",
   "metadata": {},
   "outputs": [],
   "source": [
    "_,p_value=ttest_1samp(class_ages,popmean=school_ages.mean())"
   ]
  },
  {
   "cell_type": "code",
   "execution_count": 26,
   "id": "66ac1aa2",
   "metadata": {},
   "outputs": [
    {
     "data": {
      "text/plain": [
       "52.944"
      ]
     },
     "execution_count": 26,
     "metadata": {},
     "output_type": "execute_result"
    }
   ],
   "source": [
    "school_ages.mean()"
   ]
  },
  {
   "cell_type": "code",
   "execution_count": 30,
   "id": "18d0d08e",
   "metadata": {},
   "outputs": [
    {
     "name": "stdout",
     "output_type": "stream",
     "text": [
      "Reject Ho \n"
     ]
    }
   ],
   "source": [
    "if p_value<=0.05:\n",
    "    print(\"Reject Ho \")\n",
    "else:\n",
    "    print(\"Accept Ho \") "
   ]
  },
  {
   "cell_type": "code",
   "execution_count": null,
   "id": "6c27a91d",
   "metadata": {},
   "outputs": [],
   "source": []
  }
 ],
 "metadata": {
  "kernelspec": {
   "display_name": "Python 3",
   "language": "python",
   "name": "python3"
  },
  "language_info": {
   "codemirror_mode": {
    "name": "ipython",
    "version": 3
   },
   "file_extension": ".py",
   "mimetype": "text/x-python",
   "name": "python",
   "nbconvert_exporter": "python",
   "pygments_lexer": "ipython3",
   "version": "3.8.10"
  }
 },
 "nbformat": 4,
 "nbformat_minor": 5
}
